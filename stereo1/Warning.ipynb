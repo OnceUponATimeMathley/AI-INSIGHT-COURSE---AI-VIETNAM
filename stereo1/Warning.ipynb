{
 "cells": [
  {
   "cell_type": "code",
   "execution_count": 2,
   "metadata": {},
   "outputs": [],
   "source": [
    "import numpy as np\n",
    "import tensorflow as tf\n",
    "from tensorflow import keras\n",
    "from tensorflow.keras import layers"
   ]
  },
  {
   "cell_type": "code",
   "execution_count": 4,
   "metadata": {},
   "outputs": [
    {
     "name": "stdout",
     "output_type": "stream",
     "text": [
      "(1, 6) [[1 3 2 3 4 1]]\n"
     ]
    }
   ],
   "source": [
    "X = np.array([1, 3, 2, 3, 4, 1])\n",
    "X = X.reshape((1, 6))\n",
    "print(X.shape, X)"
   ]
  },
  {
   "cell_type": "code",
   "execution_count": 7,
   "metadata": {},
   "outputs": [
    {
     "name": "stdout",
     "output_type": "stream",
     "text": [
      "(1, 6, 1, 1) [[[[1]]\n",
      "\n",
      "  [[1]]\n",
      "\n",
      "  [[1]]\n",
      "\n",
      "  [[1]]\n",
      "\n",
      "  [[1]]\n",
      "\n",
      "  [[1]]]]\n"
     ]
    }
   ],
   "source": [
    "Y = np.array([1, 1, 1, 1, 1, 1])\n",
    "Y = Y.reshape((1, 6, 1, 1))\n",
    "print(Y.shape, Y)"
   ]
  },
  {
   "cell_type": "code",
   "execution_count": 8,
   "metadata": {},
   "outputs": [
    {
     "name": "stdout",
     "output_type": "stream",
     "text": [
      "(1, 6, 1)\n",
      "tf.Tensor(\n",
      "[[[3]\n",
      "  [3]\n",
      "  [3]\n",
      "  [3]\n",
      "  [3]\n",
      "  [3]]], shape=(1, 6, 1), dtype=int32)\n"
     ]
    }
   ],
   "source": [
    "loss = tf.keras.losses.MSE(Y, X)\n",
    "print(loss.shape)\n",
    "print(loss)"
   ]
  },
  {
   "cell_type": "code",
   "execution_count": null,
   "metadata": {},
   "outputs": [],
   "source": []
  }
 ],
 "metadata": {
  "kernelspec": {
   "display_name": "Python 3",
   "language": "python",
   "name": "python3"
  },
  "language_info": {
   "codemirror_mode": {
    "name": "ipython",
    "version": 3
   },
   "file_extension": ".py",
   "mimetype": "text/x-python",
   "name": "python",
   "nbconvert_exporter": "python",
   "pygments_lexer": "ipython3",
   "version": "3.7.3"
  }
 },
 "nbformat": 4,
 "nbformat_minor": 2
}
